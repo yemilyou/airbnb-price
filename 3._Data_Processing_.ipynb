{
 "cells": [
  {
   "cell_type": "code",
   "execution_count": 2,
   "metadata": {},
   "outputs": [
    {
     "data": {
      "text/html": [
       "<div>\n",
       "<style scoped>\n",
       "    .dataframe tbody tr th:only-of-type {\n",
       "        vertical-align: middle;\n",
       "    }\n",
       "\n",
       "    .dataframe tbody tr th {\n",
       "        vertical-align: top;\n",
       "    }\n",
       "\n",
       "    .dataframe thead th {\n",
       "        text-align: right;\n",
       "    }\n",
       "</style>\n",
       "<table border=\"1\" class=\"dataframe\">\n",
       "  <thead>\n",
       "    <tr style=\"text-align: right;\">\n",
       "      <th></th>\n",
       "      <th>Unnamed: 0</th>\n",
       "      <th>Unnamed: 0.1</th>\n",
       "      <th>ID</th>\n",
       "      <th>Listing Url</th>\n",
       "      <th>Scrape ID</th>\n",
       "      <th>Last Scraped</th>\n",
       "      <th>Name</th>\n",
       "      <th>Summary</th>\n",
       "      <th>Space</th>\n",
       "      <th>Description</th>\n",
       "      <th>...</th>\n",
       "      <th>Review Scores Location</th>\n",
       "      <th>Review Scores Value</th>\n",
       "      <th>License</th>\n",
       "      <th>Jurisdiction Names</th>\n",
       "      <th>Cancellation Policy</th>\n",
       "      <th>Calculated host listings count</th>\n",
       "      <th>Reviews per Month</th>\n",
       "      <th>Geolocation</th>\n",
       "      <th>Features</th>\n",
       "      <th>expire</th>\n",
       "    </tr>\n",
       "  </thead>\n",
       "  <tbody>\n",
       "    <tr>\n",
       "      <th>0</th>\n",
       "      <td>0</td>\n",
       "      <td>0</td>\n",
       "      <td>NaN</td>\n",
       "      <td>https://www.airbnb.com/rooms/2105840</td>\n",
       "      <td>NaN</td>\n",
       "      <td>4/2/17</td>\n",
       "      <td>Room w/priv. bath Duboce Triangle 1</td>\n",
       "      <td>Stay with us in our live/work space and become...</td>\n",
       "      <td>Stay with us in our live/work space and become...</td>\n",
       "      <td>Stay with us in our live/work space and become...</td>\n",
       "      <td>...</td>\n",
       "      <td>10.0</td>\n",
       "      <td>9.0</td>\n",
       "      <td>NaN</td>\n",
       "      <td>SAN FRANCISCO</td>\n",
       "      <td>strict</td>\n",
       "      <td>2</td>\n",
       "      <td>1.16</td>\n",
       "      <td>NaN</td>\n",
       "      <td>NaN</td>\n",
       "      <td>0</td>\n",
       "    </tr>\n",
       "    <tr>\n",
       "      <th>1</th>\n",
       "      <td>1</td>\n",
       "      <td>1</td>\n",
       "      <td>NaN</td>\n",
       "      <td>https://www.airbnb.com/rooms/5505643</td>\n",
       "      <td>NaN</td>\n",
       "      <td>4/2/17</td>\n",
       "      <td>Modern Mission-Dolores apartment</td>\n",
       "      <td>Top floor apartment in a two unit building, bu...</td>\n",
       "      <td>Full open floor living room/dining room/kitche...</td>\n",
       "      <td>Top floor apartment in a two unit building, bu...</td>\n",
       "      <td>...</td>\n",
       "      <td>10.0</td>\n",
       "      <td>10.0</td>\n",
       "      <td>NaN</td>\n",
       "      <td>SAN FRANCISCO</td>\n",
       "      <td>strict</td>\n",
       "      <td>1</td>\n",
       "      <td>2.51</td>\n",
       "      <td>NaN</td>\n",
       "      <td>NaN</td>\n",
       "      <td>0</td>\n",
       "    </tr>\n",
       "    <tr>\n",
       "      <th>2</th>\n",
       "      <td>2</td>\n",
       "      <td>2</td>\n",
       "      <td>NaN</td>\n",
       "      <td>https://www.airbnb.com/rooms/746079</td>\n",
       "      <td>NaN</td>\n",
       "      <td>4/2/17</td>\n",
       "      <td>Castro/Corbett Heights Condo</td>\n",
       "      <td>Enjoy this quiet bedroom suite in my luxury Co...</td>\n",
       "      <td>Enjoy this quiet bedroom suite in my luxury Co...</td>\n",
       "      <td>Enjoy this quiet bedroom suite in my luxury Co...</td>\n",
       "      <td>...</td>\n",
       "      <td>10.0</td>\n",
       "      <td>9.0</td>\n",
       "      <td>SAN FRANCISCO SHORT-TERM RENTAL REGISTRATION N...</td>\n",
       "      <td>SAN FRANCISCO</td>\n",
       "      <td>flexible</td>\n",
       "      <td>1</td>\n",
       "      <td>4.30</td>\n",
       "      <td>NaN</td>\n",
       "      <td>NaN</td>\n",
       "      <td>0</td>\n",
       "    </tr>\n",
       "    <tr>\n",
       "      <th>3</th>\n",
       "      <td>3</td>\n",
       "      <td>3</td>\n",
       "      <td>NaN</td>\n",
       "      <td>https://www.airbnb.com/rooms/1304068</td>\n",
       "      <td>NaN</td>\n",
       "      <td>4/2/17</td>\n",
       "      <td>Historic SF Residence on a park</td>\n",
       "      <td>Central location, well maintained Victorian, g...</td>\n",
       "      <td>Central location, well maintained Victorian, g...</td>\n",
       "      <td>Central location, well maintained Victorian, g...</td>\n",
       "      <td>...</td>\n",
       "      <td>10.0</td>\n",
       "      <td>10.0</td>\n",
       "      <td>STR-0001041</td>\n",
       "      <td>SAN FRANCISCO</td>\n",
       "      <td>moderate</td>\n",
       "      <td>1</td>\n",
       "      <td>0.23</td>\n",
       "      <td>NaN</td>\n",
       "      <td>NaN</td>\n",
       "      <td>0</td>\n",
       "    </tr>\n",
       "    <tr>\n",
       "      <th>4</th>\n",
       "      <td>4</td>\n",
       "      <td>4</td>\n",
       "      <td>NaN</td>\n",
       "      <td>https://www.airbnb.com/rooms/3116428</td>\n",
       "      <td>NaN</td>\n",
       "      <td>4/2/17</td>\n",
       "      <td>Sunny/stylish/central/quiet SF 2BR</td>\n",
       "      <td>Sunny, stylish top floor apartment in a recent...</td>\n",
       "      <td>The apartment is located on the top floor of a...</td>\n",
       "      <td>Sunny, stylish top floor apartment in a recent...</td>\n",
       "      <td>...</td>\n",
       "      <td>10.0</td>\n",
       "      <td>10.0</td>\n",
       "      <td>STR-0000683</td>\n",
       "      <td>SAN FRANCISCO</td>\n",
       "      <td>moderate</td>\n",
       "      <td>1</td>\n",
       "      <td>0.56</td>\n",
       "      <td>NaN</td>\n",
       "      <td>NaN</td>\n",
       "      <td>0</td>\n",
       "    </tr>\n",
       "  </tbody>\n",
       "</table>\n",
       "<p>5 rows × 92 columns</p>\n",
       "</div>"
      ],
      "text/plain": [
       "   Unnamed: 0  Unnamed: 0.1  ID                           Listing Url  \\\n",
       "0           0             0 NaN  https://www.airbnb.com/rooms/2105840   \n",
       "1           1             1 NaN  https://www.airbnb.com/rooms/5505643   \n",
       "2           2             2 NaN   https://www.airbnb.com/rooms/746079   \n",
       "3           3             3 NaN  https://www.airbnb.com/rooms/1304068   \n",
       "4           4             4 NaN  https://www.airbnb.com/rooms/3116428   \n",
       "\n",
       "   Scrape ID Last Scraped                                 Name  \\\n",
       "0        NaN       4/2/17  Room w/priv. bath Duboce Triangle 1   \n",
       "1        NaN       4/2/17     Modern Mission-Dolores apartment   \n",
       "2        NaN       4/2/17         Castro/Corbett Heights Condo   \n",
       "3        NaN       4/2/17      Historic SF Residence on a park   \n",
       "4        NaN       4/2/17   Sunny/stylish/central/quiet SF 2BR   \n",
       "\n",
       "                                             Summary  \\\n",
       "0  Stay with us in our live/work space and become...   \n",
       "1  Top floor apartment in a two unit building, bu...   \n",
       "2  Enjoy this quiet bedroom suite in my luxury Co...   \n",
       "3  Central location, well maintained Victorian, g...   \n",
       "4  Sunny, stylish top floor apartment in a recent...   \n",
       "\n",
       "                                               Space  \\\n",
       "0  Stay with us in our live/work space and become...   \n",
       "1  Full open floor living room/dining room/kitche...   \n",
       "2  Enjoy this quiet bedroom suite in my luxury Co...   \n",
       "3  Central location, well maintained Victorian, g...   \n",
       "4  The apartment is located on the top floor of a...   \n",
       "\n",
       "                                         Description  ...  \\\n",
       "0  Stay with us in our live/work space and become...  ...   \n",
       "1  Top floor apartment in a two unit building, bu...  ...   \n",
       "2  Enjoy this quiet bedroom suite in my luxury Co...  ...   \n",
       "3  Central location, well maintained Victorian, g...  ...   \n",
       "4  Sunny, stylish top floor apartment in a recent...  ...   \n",
       "\n",
       "  Review Scores Location Review Scores Value  \\\n",
       "0                   10.0                 9.0   \n",
       "1                   10.0                10.0   \n",
       "2                   10.0                 9.0   \n",
       "3                   10.0                10.0   \n",
       "4                   10.0                10.0   \n",
       "\n",
       "                                             License Jurisdiction Names  \\\n",
       "0                                                NaN      SAN FRANCISCO   \n",
       "1                                                NaN      SAN FRANCISCO   \n",
       "2  SAN FRANCISCO SHORT-TERM RENTAL REGISTRATION N...      SAN FRANCISCO   \n",
       "3                                        STR-0001041      SAN FRANCISCO   \n",
       "4                                        STR-0000683      SAN FRANCISCO   \n",
       "\n",
       "  Cancellation Policy Calculated host listings count Reviews per Month  \\\n",
       "0              strict                              2              1.16   \n",
       "1              strict                              1              2.51   \n",
       "2            flexible                              1              4.30   \n",
       "3            moderate                              1              0.23   \n",
       "4            moderate                              1              0.56   \n",
       "\n",
       "  Geolocation Features  expire  \n",
       "0         NaN      NaN       0  \n",
       "1         NaN      NaN       0  \n",
       "2         NaN      NaN       0  \n",
       "3         NaN      NaN       0  \n",
       "4         NaN      NaN       0  \n",
       "\n",
       "[5 rows x 92 columns]"
      ]
     },
     "execution_count": 2,
     "metadata": {},
     "output_type": "execute_result"
    }
   ],
   "source": [
    "import pandas as pd\n",
    "from datetime import datetime\n",
    "import numpy as np\n",
    "import requests # The requests library \n",
    "import bs4 as bs # BeautifulSoup4 is a Python library \n",
    "from collections import Counter\n",
    "import re\n",
    "\n",
    "df = pd.read_csv('clean-airbnb.csv',sep='\\t')\n",
    "df.head()"
   ]
  },
  {
   "cell_type": "code",
   "execution_count": 3,
   "metadata": {},
   "outputs": [
    {
     "data": {
      "text/plain": [
       "Index(['Unnamed: 0', 'Unnamed: 0.1', 'ID', 'Listing Url', 'Scrape ID',\n",
       "       'Last Scraped', 'Name', 'Summary', 'Space', 'Description',\n",
       "       'Experiences Offered', 'Neighborhood Overview', 'Notes', 'Transit',\n",
       "       'Access', 'Interaction', 'House Rules', 'Thumbnail Url', 'Medium Url',\n",
       "       'Picture Url', 'XL Picture Url', 'Host ID', 'Host URL', 'Host Name',\n",
       "       'Host Since', 'Host Location', 'Host About', 'Host Response Time',\n",
       "       'Host Response Rate', 'Host Acceptance Rate', 'Host Thumbnail Url',\n",
       "       'Host Picture Url', 'Host Neighbourhood', 'Host Listings Count',\n",
       "       'Host Total Listings Count', 'Host Verifications', 'Street',\n",
       "       'Neighbourhood', 'Neighbourhood Cleansed',\n",
       "       'Neighbourhood Group Cleansed', 'City', 'State', 'Zipcode', 'Market',\n",
       "       'Smart Location', 'Country Code', 'Country', 'Latitude', 'Longitude',\n",
       "       'Property Type', 'Room Type', 'Accommodates', 'Bathrooms', 'Bedrooms',\n",
       "       'Beds', 'Bed Type', 'Amenities', 'Square Feet', 'Price', 'Weekly Price',\n",
       "       'Monthly Price', 'Security Deposit', 'Cleaning Fee', 'Guests Included',\n",
       "       'Extra People', 'Minimum Nights', 'Maximum Nights', 'Calendar Updated',\n",
       "       'Has Availability', 'Availability 30', 'Availability 60',\n",
       "       'Availability 90', 'Availability 365', 'Calendar last Scraped',\n",
       "       'Number of Reviews', 'First Review', 'Last Review',\n",
       "       'Review Scores Rating', 'Review Scores Accuracy',\n",
       "       'Review Scores Cleanliness', 'Review Scores Checkin',\n",
       "       'Review Scores Communication', 'Review Scores Location',\n",
       "       'Review Scores Value', 'License', 'Jurisdiction Names',\n",
       "       'Cancellation Policy', 'Calculated host listings count',\n",
       "       'Reviews per Month', 'Geolocation', 'Features', 'expire'],\n",
       "      dtype='object')"
      ]
     },
     "execution_count": 3,
     "metadata": {},
     "output_type": "execute_result"
    }
   ],
   "source": [
    "df.columns "
   ]
  },
  {
   "cell_type": "code",
   "execution_count": 4,
   "metadata": {},
   "outputs": [
    {
     "data": {
      "text/plain": [
       "Unnamed: 0                           0\n",
       "Unnamed: 0.1                         0\n",
       "ID                                2770\n",
       "Listing Url                          0\n",
       "Scrape ID                         2770\n",
       "                                  ... \n",
       "Calculated host listings count       0\n",
       "Reviews per Month                  159\n",
       "Geolocation                       2770\n",
       "Features                          2770\n",
       "expire                               0\n",
       "Length: 92, dtype: int64"
      ]
     },
     "execution_count": 4,
     "metadata": {},
     "output_type": "execute_result"
    }
   ],
   "source": [
    "# check whether there is null for all columns\n",
    "df.isnull().sum()"
   ]
  },
  {
   "cell_type": "markdown",
   "metadata": {},
   "source": [
    "# Drop NaN values "
   ]
  },
  {
   "cell_type": "code",
   "execution_count": 5,
   "metadata": {},
   "outputs": [],
   "source": [
    "# columns which have string can't replace NaN\n",
    "df = df.dropna(subset=['Host Since','First Review','Host Location','Last Review','Bathrooms',\n",
    "                       'Beds','Host Response Time','Host Neighbourhood'])"
   ]
  },
  {
   "cell_type": "markdown",
   "metadata": {},
   "source": [
    "# Drop some columns (columns which have All NAN values and non-useful)"
   ]
  },
  {
   "cell_type": "code",
   "execution_count": 6,
   "metadata": {},
   "outputs": [],
   "source": [
    "# drop some columns \n",
    "df = df.drop(['Unnamed: 0.1','Listing Url','ID','Last Scraped','Name','Host URL','Host Name','Unnamed: 0','Host Thumbnail Url','Scrape ID','Picture Url','Country',\n",
    "              'City','Experiences Offered','Host ID','Host Response Rate','Host Acceptance Rate','Neighbourhood Group Cleansed','State',\n",
    "              'Square Feet','Calendar last Scraped','License','Jurisdiction Names','Cleaning Fee',\n",
    "              'Extra People','Host Listings Count','Availability 30','Availability 60','Availability 90',\n",
    "              'Has Availability','Geolocation','Features','Longitude','Latitude','Weekly Price','Monthly Price',\n",
    "              'Zipcode','expire','Security Deposit','Thumbnail Url','Medium Url','Host Picture Url','XL Picture Url',\n",
    "              'Market','Host Total Listings Count','Neighbourhood','Country Code','Smart Location','Street','Host Neighbourhood'],axis=1)"
   ]
  },
  {
   "cell_type": "code",
   "execution_count": 7,
   "metadata": {},
   "outputs": [
    {
     "data": {
      "text/plain": [
       "Summary                           106\n",
       "Space                             215\n",
       "Description                         0\n",
       "Neighborhood Overview             524\n",
       "Notes                             651\n",
       "Transit                           466\n",
       "Access                            476\n",
       "Interaction                       524\n",
       "House Rules                       312\n",
       "Host Since                          0\n",
       "Host Location                       0\n",
       "Host About                        363\n",
       "Host Response Time                  0\n",
       "Host Verifications                  0\n",
       "Neighbourhood Cleansed              0\n",
       "Property Type                       0\n",
       "Room Type                           0\n",
       "Accommodates                        0\n",
       "Bathrooms                           0\n",
       "Bedrooms                            0\n",
       "Beds                                0\n",
       "Bed Type                            0\n",
       "Amenities                           0\n",
       "Price                               0\n",
       "Guests Included                     0\n",
       "Minimum Nights                      0\n",
       "Maximum Nights                      0\n",
       "Calendar Updated                    0\n",
       "Availability 365                    0\n",
       "Number of Reviews                   0\n",
       "First Review                        0\n",
       "Last Review                         0\n",
       "Review Scores Rating                5\n",
       "Review Scores Accuracy              7\n",
       "Review Scores Cleanliness           7\n",
       "Review Scores Checkin               8\n",
       "Review Scores Communication         7\n",
       "Review Scores Location              8\n",
       "Review Scores Value                 8\n",
       "Cancellation Policy                 0\n",
       "Calculated host listings count      0\n",
       "Reviews per Month                   0\n",
       "dtype: int64"
      ]
     },
     "execution_count": 7,
     "metadata": {},
     "output_type": "execute_result"
    }
   ],
   "source": [
    "df.isnull().sum()"
   ]
  },
  {
   "cell_type": "markdown",
   "metadata": {},
   "source": [
    "# Replace NaN values with average of each columns"
   ]
  },
  {
   "cell_type": "code",
   "execution_count": 8,
   "metadata": {},
   "outputs": [],
   "source": [
    "df['Review Scores Rating'] =df['Review Scores Rating'].fillna(df['Review Scores Rating'].mean())\n",
    "df['Review Scores Accuracy'] =df['Review Scores Accuracy'].fillna(df['Review Scores Accuracy'].mean())\n",
    "df['Review Scores Cleanliness'] =df['Review Scores Cleanliness'].fillna(df['Review Scores Cleanliness'].mean())\n",
    "df['Review Scores Checkin'] =df['Review Scores Checkin'].fillna(df['Review Scores Checkin'].mean())\n",
    "df['Review Scores Communication'] =df['Review Scores Communication'].fillna(df['Review Scores Communication'].mean())\n",
    "df['Review Scores Location'] =df['Review Scores Location'].fillna(df['Review Scores Location'].mean())\n",
    "df['Review Scores Value'] =df['Review Scores Value'].fillna(df['Review Scores Value'].mean())"
   ]
  },
  {
   "cell_type": "markdown",
   "metadata": {},
   "source": [
    "# Cleaning Columns "
   ]
  },
  {
   "cell_type": "markdown",
   "metadata": {},
   "source": [
    "### Host location"
   ]
  },
  {
   "cell_type": "code",
   "execution_count": 9,
   "metadata": {
    "scrolled": true
   },
   "outputs": [
    {
     "data": {
      "text/plain": [
       "array(['San Francisco, California, United States', 'US',\n",
       "       'Noe Valley / Bernal Heights / Mission',\n",
       "       'California, United States',\n",
       "       'Los Angeles, California, United States',\n",
       "       'Mill Valley, California, United States',\n",
       "       'Oakland, California, United States',\n",
       "       'Irvine, California, United States',\n",
       "       'Berkeley, California, United States',\n",
       "       'Penn Valley, California, United States',\n",
       "       'San Anselmo, California, United States',\n",
       "       'Joshua Tree, California, United States',\n",
       "       'Byron, Illinois, United States',\n",
       "       'Portland, Oregon, United States',\n",
       "       'Redwood City, California, United States',\n",
       "       'New York, New York, United States', 'SAN FRANCISCO, California',\n",
       "       'Denver, Colorado, United States',\n",
       "       'Tahoe City, California, United States', 'United States',\n",
       "       'Hillsborough, California, United States',\n",
       "       'Palm Springs, California, United States', 'CA',\n",
       "       'Salt Lake City, Utah, United States', 'Bali, Indonesia',\n",
       "       'Portola Valley, California, United States', 'NL',\n",
       "       'Menlo Park, California, United States',\n",
       "       'Woodside, California, United States',\n",
       "       'Reno, Nevada, United States', 'USA',\n",
       "       'Malibu, California, United States', 'Florida, United States',\n",
       "       'Quito, Pichincha, Ecuador',\n",
       "       'Discovery Bay, California, United States',\n",
       "       'Brawley, California, United States',\n",
       "       'Palo Alto, California, United States',\n",
       "       'Bryn Mawr, Pennsylvania, United States',\n",
       "       'Boston, Massachusetts, United States',\n",
       "       'South San Francisco, California, United States',\n",
       "       'Newport Beach, California, United States',\n",
       "       'San Rafael, California, United States', 'Stockholm, Sweden',\n",
       "       'Our ranch house is at the property listed about a block and a half away from Inn..',\n",
       "       'Paris, �le-de-France, France',\n",
       "       'San Mateo, California, United States', 'Bay Area, California',\n",
       "       'El Centro, California, United States',\n",
       "       'Los Altos, California, United States',\n",
       "       'Sunnyvale, California, United States',\n",
       "       'Gothenburg, V�stra G�taland County, Sweden',\n",
       "       'Belvedere Tiburon, California, United States',\n",
       "       'Chicago, Illinois, United States',\n",
       "       'Washington, District of Columbia, United States',\n",
       "       'Lower Russian Hill, Acquatic park neiborhood.',\n",
       "       'Toronto, Ontario, Canada',\n",
       "       'Durham, North Carolina, United States'], dtype=object)"
      ]
     },
     "execution_count": 9,
     "metadata": {},
     "output_type": "execute_result"
    }
   ],
   "source": [
    "# check Host location \n",
    "pd.unique(df['Host Location'])"
   ]
  },
  {
   "cell_type": "markdown",
   "metadata": {},
   "source": [
    "Only San Francisco and Noe Valley can count as San Francisco city. So if host location is in San Francisco, we will return 1. otherwise 0. "
   ]
  },
  {
   "cell_type": "code",
   "execution_count": 10,
   "metadata": {},
   "outputs": [],
   "source": [
    "# fillna as random string and convert a string to a lowercase \n",
    "#df['Host Location'].fillna('no value', inplace = True)\n",
    "df['Host Location'] = df['Host Location'].str.lower()"
   ]
  },
  {
   "cell_type": "code",
   "execution_count": 11,
   "metadata": {},
   "outputs": [],
   "source": [
    "# replace 1: san franicsco 0: otherwise\n",
    "df['Host Location'] = df['Host Location'].str.contains('|'.join(['san francisco','noe valley'])).astype(int)"
   ]
  },
  {
   "cell_type": "code",
   "execution_count": 12,
   "metadata": {},
   "outputs": [
    {
     "data": {
      "text/plain": [
       "0    1\n",
       "1    1\n",
       "2    1\n",
       "3    1\n",
       "4    1\n",
       "Name: Host Location, dtype: int32"
      ]
     },
     "execution_count": 12,
     "metadata": {},
     "output_type": "execute_result"
    }
   ],
   "source": [
    "df['Host Location'].head(5)"
   ]
  },
  {
   "cell_type": "markdown",
   "metadata": {},
   "source": [
    "### Maximum Nights"
   ]
  },
  {
   "cell_type": "code",
   "execution_count": 13,
   "metadata": {},
   "outputs": [
    {
     "data": {
      "text/plain": [
       "array([        30,         90,         16,       1125,         14,\n",
       "               12,          7,         28,         15,         10,\n",
       "               20,         29,        120,        180,         27,\n",
       "               21,         31,        100,          5,        365,\n",
       "                6,        186,         25,         99,         26,\n",
       "              356,         22,        300,        730,        150,\n",
       "               60,       1825,         35,          9,          4,\n",
       "               33,        367,         13,        360,         19,\n",
       "            10000,          3,         24,          8,        125,\n",
       "              540,         89,        364,         88,        999,\n",
       "       2147483647,       2922,        188,        220,         56,\n",
       "              200,         45,        720,         40,         70,\n",
       "               32,         93,        760,         96,         59,\n",
       "               17,        400,        330,        350,          1,\n",
       "               95,        160,        102,        270,         50,\n",
       "              185,         11,        240,         18,     999999,\n",
       "                2,        151,        302,         92,         36],\n",
       "      dtype=int64)"
      ]
     },
     "execution_count": 13,
     "metadata": {},
     "output_type": "execute_result"
    }
   ],
   "source": [
    "pd.unique(df['Maximum Nights'])"
   ]
  },
  {
   "cell_type": "code",
   "execution_count": 14,
   "metadata": {},
   "outputs": [],
   "source": [
    "# remove some outliers\n",
    "df = df.loc[df['Maximum Nights']!=10000]\n",
    "df = df.loc[df['Maximum Nights']!=999999]\n",
    "df = df.loc[df['Maximum Nights']!=2147483647]"
   ]
  },
  {
   "cell_type": "markdown",
   "metadata": {},
   "source": [
    "### First Reviews and Last Reviews "
   ]
  },
  {
   "cell_type": "code",
   "execution_count": 15,
   "metadata": {},
   "outputs": [
    {
     "data": {
      "text/plain": [
       "datetime.datetime(2016, 11, 12, 0, 0)"
      ]
     },
     "execution_count": 15,
     "metadata": {},
     "output_type": "execute_result"
    }
   ],
   "source": [
    "datetime_object = datetime.strptime('11/12/16', '%m/%d/%y')\n",
    "datetime_object"
   ]
  },
  {
   "cell_type": "code",
   "execution_count": 16,
   "metadata": {},
   "outputs": [],
   "source": [
    "first_review = pd.to_datetime(df['First Review'])\n",
    "last_review = pd.to_datetime(df['Last Review'])\n",
    "df['first_dt'] = first_review\n",
    "df['last_dt'] = last_review\n",
    "df['first_YearMonth'] = df['first_dt'].map(lambda x: x.year + x.month/12)\n",
    "df['last_YearMonth'] = df['last_dt'].map(lambda x: x.year + x.month/12)\n",
    "df['today'] =np.ones(len(df))*(2018+11/12)\n",
    "df['duration_rev'] = df['last_YearMonth']-df['first_YearMonth']\n",
    "df['Time since last review'] = df['today'] - df['last_YearMonth']"
   ]
  },
  {
   "cell_type": "code",
   "execution_count": 17,
   "metadata": {},
   "outputs": [],
   "source": [
    "# drop columns that were created to calculate\n",
    "df = df.drop(['first_dt','last_dt','today', 'first_YearMonth', 'last_YearMonth','First Review','Last Review'], axis=1)"
   ]
  },
  {
   "cell_type": "markdown",
   "metadata": {},
   "source": [
    "### Amenities "
   ]
  },
  {
   "cell_type": "code",
   "execution_count": 18,
   "metadata": {},
   "outputs": [
    {
     "data": {
      "text/plain": [
       "'{Internet,\"Wireless Internet\",Heating,Washer,Dryer,\"Smoke detector\",\"Carbon monoxide detector\",\"Fire extinguisher\",Essentials,\"24-hour check-in\",Hangers,\"Hair dryer\",Iron,\"Laptop friendly workspace\",\"translation missing: en.hosting_amenity_49\",\"translation missing: en.hosting_amenity_50\",\"Self Check-In\",Lockbox,\"Private entrance\"}'"
      ]
     },
     "execution_count": 18,
     "metadata": {},
     "output_type": "execute_result"
    }
   ],
   "source": [
    "# Total number of amenities per listing\n",
    "df['Amenities'][0]"
   ]
  },
  {
   "cell_type": "code",
   "execution_count": 19,
   "metadata": {},
   "outputs": [],
   "source": [
    "df['Amenities_list']=df['Amenities'].apply(lambda x:x[1:-1]).str.split(',')\n",
    "df['Number of Amenities'] = df['Amenities_list'].map(lambda x: len(x))\n",
    "\n",
    "# drop original amenities column\n",
    "df = df.drop(['Amenities','Amenities_list'],axis=1)"
   ]
  },
  {
   "cell_type": "markdown",
   "metadata": {},
   "source": [
    "### Host Since "
   ]
  },
  {
   "cell_type": "code",
   "execution_count": 20,
   "metadata": {},
   "outputs": [],
   "source": [
    "#datetime.strptime(date_str, '%Y-%m-%d').strftime(\"%Y-%m\")\n",
    "\n",
    "df['Host Since'] = pd.to_datetime(df[\"Host Since\"])\n",
    "df['Host Since'] = df['Host Since'].map(lambda x: x.year + x.month/12)\n",
    "df['Host Since']\n",
    "df['Host Duration'] = (11/12 + 2018) - df['Host Since'] \n",
    "#fractional years \n",
    "df[\"Host Duration\"]\n",
    "#dropping Host since series \n",
    "df = df.drop(labels = 'Host Since', axis =1 )"
   ]
  },
  {
   "cell_type": "markdown",
   "metadata": {},
   "source": [
    "### Host VERIFICATIONS "
   ]
  },
  {
   "cell_type": "code",
   "execution_count": 21,
   "metadata": {},
   "outputs": [],
   "source": [
    "#Host VERIFICATIONS \n",
    "#transform by adding number of verifications (more is higher ranked )\n",
    "df['Verification_list']=df['Host Verifications'].apply(lambda x:x[1:-1]).str.split(',')\n",
    "df[\"Host Verifications\"] = df[\"Verification_list\"].map(lambda x: len(x))\n",
    "df = df.drop(labels = 'Verification_list', axis =1 )"
   ]
  },
  {
   "cell_type": "markdown",
   "metadata": {},
   "source": [
    "# Crime data"
   ]
  },
  {
   "cell_type": "markdown",
   "metadata": {},
   "source": [
    "https://www.areavibes.com/san+francisco-ca/mission/livability/?ll=37.76009+-122.4145\n",
    "The crimes will be “scored” depending on the crime category. SF will be zoned into multiple regions, with each zone scoredon safety depending on the average crime rate “score.”"
   ]
  },
  {
   "cell_type": "code",
   "execution_count": 22,
   "metadata": {},
   "outputs": [
    {
     "data": {
      "text/plain": [
       "Index(['Mission', 'Western Addition', 'Bernal Heights', 'Castro/Upper Market',\n",
       "       'Noe Valley', 'Downtown/Civic Center', 'Haight Ashbury', 'Potrero Hill',\n",
       "       'Outer Sunset', 'Inner Richmond', 'South of Market', 'Excelsior',\n",
       "       'Outer Mission', 'Marina', 'North Beach', 'Pacific Heights',\n",
       "       'Outer Richmond', 'Russian Hill', 'West of Twin Peaks', 'Nob Hill',\n",
       "       'Parkside', 'Inner Sunset', 'Bayview', 'Ocean View',\n",
       "       'Financial District', 'Twin Peaks', 'Glen Park', 'Chinatown',\n",
       "       'Visitacion Valley', 'Crocker Amazon', 'Diamond Heights', 'Seacliff',\n",
       "       'Presidio Heights', 'Lakeshore', 'Golden Gate Park', 'Presidio'],\n",
       "      dtype='object')"
      ]
     },
     "execution_count": 22,
     "metadata": {},
     "output_type": "execute_result"
    }
   ],
   "source": [
    "df[\"Neighbourhood Cleansed\"].value_counts().index"
   ]
  },
  {
   "cell_type": "code",
   "execution_count": 23,
   "metadata": {},
   "outputs": [],
   "source": [
    "dic = ({\"Neighbourhood Cleansed\":['Mission', 'Western Addition', 'Bernal Heights', 'Castro/Upper Market',\n",
    "       'Downtown/Civic Center', 'Noe Valley', 'Haight Ashbury', 'Outer Sunset',\n",
    "       'Potrero Hill', 'South of Market', 'Inner Richmond', 'Outer Mission',\n",
    "       'Excelsior', 'North Beach', 'Marina', 'Pacific Heights',\n",
    "       'Outer Richmond', 'Russian Hill', 'Nob Hill', 'West of Twin Peaks',\n",
    "       'Inner Sunset', 'Bayview', 'Parkside', 'Financial District',\n",
    "       'Ocean View', 'Glen Park', 'Chinatown', 'Twin Peaks', 'Diamond Heights',\n",
    "       'Visitacion Valley', 'Crocker Amazon', 'Presidio Heights', 'Lakeshore',\n",
    "       'Seacliff', 'Golden Gate Park', 'Treasure Island/YBI', 'Presidio'], \"crime\": [\"F\", \"F\", \"D-\", \"F\", \"F\", \"B+\", \"F\", \"A-\", \n",
    "                                                                                    \"F\", \"F\", \"B-\", \"F\", \"D+\", \"B-\", \"F\", \"D+\",\n",
    "                                                                                    \"B\", \"F\", \"D\", \"C\", \"B+\", \"F\", \"C+\", \n",
    "                                                                                     \"B-\", \"B\", \"B-\", \"F\", \"C\", \"D-\", \"F\", \"B+\",\n",
    "                                                                                    \"C+\", \"F\", \"B-\", \"F\", \"F\", \"C+\"]}\n",
    "       \n",
    "      )"
   ]
  },
  {
   "cell_type": "code",
   "execution_count": 24,
   "metadata": {},
   "outputs": [],
   "source": [
    "neighbor_crime = pd.DataFrame.from_dict(dic)"
   ]
  },
  {
   "cell_type": "code",
   "execution_count": 25,
   "metadata": {},
   "outputs": [],
   "source": [
    "df = df.merge(neighbor_crime, on = 'Neighbourhood Cleansed')"
   ]
  },
  {
   "cell_type": "code",
   "execution_count": 26,
   "metadata": {},
   "outputs": [
    {
     "data": {
      "text/html": [
       "<div>\n",
       "<style scoped>\n",
       "    .dataframe tbody tr th:only-of-type {\n",
       "        vertical-align: middle;\n",
       "    }\n",
       "\n",
       "    .dataframe tbody tr th {\n",
       "        vertical-align: top;\n",
       "    }\n",
       "\n",
       "    .dataframe thead th {\n",
       "        text-align: right;\n",
       "    }\n",
       "</style>\n",
       "<table border=\"1\" class=\"dataframe\">\n",
       "  <thead>\n",
       "    <tr style=\"text-align: right;\">\n",
       "      <th></th>\n",
       "      <th>Neighbourhood Cleansed</th>\n",
       "      <th>crime</th>\n",
       "    </tr>\n",
       "  </thead>\n",
       "  <tbody>\n",
       "    <tr>\n",
       "      <th>0</th>\n",
       "      <td>Castro/Upper Market</td>\n",
       "      <td>F</td>\n",
       "    </tr>\n",
       "    <tr>\n",
       "      <th>1</th>\n",
       "      <td>Castro/Upper Market</td>\n",
       "      <td>F</td>\n",
       "    </tr>\n",
       "    <tr>\n",
       "      <th>2</th>\n",
       "      <td>Castro/Upper Market</td>\n",
       "      <td>F</td>\n",
       "    </tr>\n",
       "    <tr>\n",
       "      <th>3</th>\n",
       "      <td>Castro/Upper Market</td>\n",
       "      <td>F</td>\n",
       "    </tr>\n",
       "    <tr>\n",
       "      <th>4</th>\n",
       "      <td>Castro/Upper Market</td>\n",
       "      <td>F</td>\n",
       "    </tr>\n",
       "  </tbody>\n",
       "</table>\n",
       "</div>"
      ],
      "text/plain": [
       "  Neighbourhood Cleansed crime\n",
       "0    Castro/Upper Market     F\n",
       "1    Castro/Upper Market     F\n",
       "2    Castro/Upper Market     F\n",
       "3    Castro/Upper Market     F\n",
       "4    Castro/Upper Market     F"
      ]
     },
     "execution_count": 26,
     "metadata": {},
     "output_type": "execute_result"
    }
   ],
   "source": [
    "df[['Neighbourhood Cleansed', 'crime']].head(5)"
   ]
  },
  {
   "cell_type": "code",
   "execution_count": 27,
   "metadata": {},
   "outputs": [],
   "source": [
    "df['crime'] = df['crime'].replace({'F': 0, 'D-': 1, 'D': 2, 'D+': 3, 'C-': 4, 'C': 5, 'C+': 6, 'B-': 7, 'B': 8, 'B+':9, 'A-': 10, 'A': 11 } )"
   ]
  },
  {
   "cell_type": "code",
   "execution_count": 28,
   "metadata": {},
   "outputs": [
    {
     "data": {
      "text/html": [
       "<div>\n",
       "<style scoped>\n",
       "    .dataframe tbody tr th:only-of-type {\n",
       "        vertical-align: middle;\n",
       "    }\n",
       "\n",
       "    .dataframe tbody tr th {\n",
       "        vertical-align: top;\n",
       "    }\n",
       "\n",
       "    .dataframe thead th {\n",
       "        text-align: right;\n",
       "    }\n",
       "</style>\n",
       "<table border=\"1\" class=\"dataframe\">\n",
       "  <thead>\n",
       "    <tr style=\"text-align: right;\">\n",
       "      <th></th>\n",
       "      <th>Summary</th>\n",
       "      <th>Space</th>\n",
       "      <th>Description</th>\n",
       "      <th>Neighborhood Overview</th>\n",
       "      <th>Notes</th>\n",
       "      <th>Transit</th>\n",
       "      <th>Access</th>\n",
       "      <th>Interaction</th>\n",
       "      <th>House Rules</th>\n",
       "      <th>Host Location</th>\n",
       "      <th>...</th>\n",
       "      <th>Review Scores Location</th>\n",
       "      <th>Review Scores Value</th>\n",
       "      <th>Cancellation Policy</th>\n",
       "      <th>Calculated host listings count</th>\n",
       "      <th>Reviews per Month</th>\n",
       "      <th>duration_rev</th>\n",
       "      <th>Time since last review</th>\n",
       "      <th>Number of Amenities</th>\n",
       "      <th>Host Duration</th>\n",
       "      <th>crime</th>\n",
       "    </tr>\n",
       "  </thead>\n",
       "  <tbody>\n",
       "    <tr>\n",
       "      <th>2130</th>\n",
       "      <td>Located in the Outer Sunset, near Ocean Beach,...</td>\n",
       "      <td>Our home is a cozy house with two floors. The ...</td>\n",
       "      <td>Located in the Outer Sunset, near Ocean Beach,...</td>\n",
       "      <td>-Golden Gate park, 48 Ave SF Beach, Zoo, Stern...</td>\n",
       "      <td>We are thrilled to have you stay with us. Just...</td>\n",
       "      <td>Muni L, Muni 29, BART, Cal-train. Uber, Freewa...</td>\n",
       "      <td>- Your bedroom, small convenient private bathr...</td>\n",
       "      <td>Call/text Sabrina (PHONE NUMBER HIDDEN) or or ...</td>\n",
       "      <td>We love having guests and hope that you will t...</td>\n",
       "      <td>1</td>\n",
       "      <td>...</td>\n",
       "      <td>10.0</td>\n",
       "      <td>9.0</td>\n",
       "      <td>flexible</td>\n",
       "      <td>2</td>\n",
       "      <td>0.87</td>\n",
       "      <td>0.916667</td>\n",
       "      <td>1.750000</td>\n",
       "      <td>19</td>\n",
       "      <td>2.833333</td>\n",
       "      <td>6</td>\n",
       "    </tr>\n",
       "    <tr>\n",
       "      <th>2131</th>\n",
       "      <td>Cozy and well furnished, this 1 bedroom in-law...</td>\n",
       "      <td>The bedroom is furnished with a new queen size...</td>\n",
       "      <td>Cozy and well furnished, this 1 bedroom in-law...</td>\n",
       "      <td>NaN</td>\n",
       "      <td>San Francisco Short-Term Residential Rental Re...</td>\n",
       "      <td>It is close to public transportation, only 1 b...</td>\n",
       "      <td>It is close to public transportation, only 1 b...</td>\n",
       "      <td>I'm always available to help.</td>\n",
       "      <td>I expect my guests to respect  all neighbors.</td>\n",
       "      <td>1</td>\n",
       "      <td>...</td>\n",
       "      <td>9.0</td>\n",
       "      <td>9.0</td>\n",
       "      <td>strict</td>\n",
       "      <td>1</td>\n",
       "      <td>0.59</td>\n",
       "      <td>1.166667</td>\n",
       "      <td>1.666667</td>\n",
       "      <td>7</td>\n",
       "      <td>4.083333</td>\n",
       "      <td>6</td>\n",
       "    </tr>\n",
       "    <tr>\n",
       "      <th>2132</th>\n",
       "      <td>Spacious, modern, private 2 bedroom flat with ...</td>\n",
       "      <td>Clean, spacious and private, well-lit and newl...</td>\n",
       "      <td>Spacious, modern, private 2 bedroom flat with ...</td>\n",
       "      <td>Our house is in a quiet neighborhood, across t...</td>\n",
       "      <td>Short-Term Residential Rental Certificate Numb...</td>\n",
       "      <td>Our house is within a 1-minute walk of the L M...</td>\n",
       "      <td>Guests will be given a security code to enter ...</td>\n",
       "      <td>Nejdeh or Angela will be communicating with you.</td>\n",
       "      <td>- Quiet time is between 10pm and 7am.   - Than...</td>\n",
       "      <td>1</td>\n",
       "      <td>...</td>\n",
       "      <td>10.0</td>\n",
       "      <td>10.0</td>\n",
       "      <td>flexible</td>\n",
       "      <td>1</td>\n",
       "      <td>3.51</td>\n",
       "      <td>0.500000</td>\n",
       "      <td>1.666667</td>\n",
       "      <td>21</td>\n",
       "      <td>2.333333</td>\n",
       "      <td>6</td>\n",
       "    </tr>\n",
       "    <tr>\n",
       "      <th>2133</th>\n",
       "      <td>Our home is newly remodeled is conveniently lo...</td>\n",
       "      <td>Our comfortable  home was just remodeled with ...</td>\n",
       "      <td>Our home is newly remodeled is conveniently lo...</td>\n",
       "      <td>Parkside district is a safe, quiet neighborhoo...</td>\n",
       "      <td>NaN</td>\n",
       "      <td>Bus stop and muni train is a few blocks from t...</td>\n",
       "      <td>You will have access to the entire upstairs of...</td>\n",
       "      <td>Guests have access to all amenities in the hou...</td>\n",
       "      <td>NaN</td>\n",
       "      <td>0</td>\n",
       "      <td>...</td>\n",
       "      <td>9.0</td>\n",
       "      <td>10.0</td>\n",
       "      <td>moderate</td>\n",
       "      <td>1</td>\n",
       "      <td>0.77</td>\n",
       "      <td>0.333333</td>\n",
       "      <td>1.833333</td>\n",
       "      <td>20</td>\n",
       "      <td>2.250000</td>\n",
       "      <td>6</td>\n",
       "    </tr>\n",
       "    <tr>\n",
       "      <th>2134</th>\n",
       "      <td>Stunning, brand new 1-bedroom apartment. Perfe...</td>\n",
       "      <td>Meticulously designed space with open floor pl...</td>\n",
       "      <td>Stunning, brand new 1-bedroom apartment. Perfe...</td>\n",
       "      <td>Our house is in a quiet, safe neighborhood. St...</td>\n",
       "      <td>Transit -- There is plenty or inexpensive publ...</td>\n",
       "      <td>We're a 5-minute walk to San Francisco MUNI pu...</td>\n",
       "      <td>Separate private entrance</td>\n",
       "      <td>Happy to help</td>\n",
       "      <td>Please be mindful that we live above you and h...</td>\n",
       "      <td>1</td>\n",
       "      <td>...</td>\n",
       "      <td>9.0</td>\n",
       "      <td>9.0</td>\n",
       "      <td>strict</td>\n",
       "      <td>1</td>\n",
       "      <td>2.64</td>\n",
       "      <td>0.916667</td>\n",
       "      <td>1.666667</td>\n",
       "      <td>17</td>\n",
       "      <td>5.583333</td>\n",
       "      <td>6</td>\n",
       "    </tr>\n",
       "  </tbody>\n",
       "</table>\n",
       "<p>5 rows × 43 columns</p>\n",
       "</div>"
      ],
      "text/plain": [
       "                                                Summary  \\\n",
       "2130  Located in the Outer Sunset, near Ocean Beach,...   \n",
       "2131  Cozy and well furnished, this 1 bedroom in-law...   \n",
       "2132  Spacious, modern, private 2 bedroom flat with ...   \n",
       "2133  Our home is newly remodeled is conveniently lo...   \n",
       "2134  Stunning, brand new 1-bedroom apartment. Perfe...   \n",
       "\n",
       "                                                  Space  \\\n",
       "2130  Our home is a cozy house with two floors. The ...   \n",
       "2131  The bedroom is furnished with a new queen size...   \n",
       "2132  Clean, spacious and private, well-lit and newl...   \n",
       "2133  Our comfortable  home was just remodeled with ...   \n",
       "2134  Meticulously designed space with open floor pl...   \n",
       "\n",
       "                                            Description  \\\n",
       "2130  Located in the Outer Sunset, near Ocean Beach,...   \n",
       "2131  Cozy and well furnished, this 1 bedroom in-law...   \n",
       "2132  Spacious, modern, private 2 bedroom flat with ...   \n",
       "2133  Our home is newly remodeled is conveniently lo...   \n",
       "2134  Stunning, brand new 1-bedroom apartment. Perfe...   \n",
       "\n",
       "                                  Neighborhood Overview  \\\n",
       "2130  -Golden Gate park, 48 Ave SF Beach, Zoo, Stern...   \n",
       "2131                                                NaN   \n",
       "2132  Our house is in a quiet neighborhood, across t...   \n",
       "2133  Parkside district is a safe, quiet neighborhoo...   \n",
       "2134  Our house is in a quiet, safe neighborhood. St...   \n",
       "\n",
       "                                                  Notes  \\\n",
       "2130  We are thrilled to have you stay with us. Just...   \n",
       "2131  San Francisco Short-Term Residential Rental Re...   \n",
       "2132  Short-Term Residential Rental Certificate Numb...   \n",
       "2133                                                NaN   \n",
       "2134  Transit -- There is plenty or inexpensive publ...   \n",
       "\n",
       "                                                Transit  \\\n",
       "2130  Muni L, Muni 29, BART, Cal-train. Uber, Freewa...   \n",
       "2131  It is close to public transportation, only 1 b...   \n",
       "2132  Our house is within a 1-minute walk of the L M...   \n",
       "2133  Bus stop and muni train is a few blocks from t...   \n",
       "2134  We're a 5-minute walk to San Francisco MUNI pu...   \n",
       "\n",
       "                                                 Access  \\\n",
       "2130  - Your bedroom, small convenient private bathr...   \n",
       "2131  It is close to public transportation, only 1 b...   \n",
       "2132  Guests will be given a security code to enter ...   \n",
       "2133  You will have access to the entire upstairs of...   \n",
       "2134                          Separate private entrance   \n",
       "\n",
       "                                            Interaction  \\\n",
       "2130  Call/text Sabrina (PHONE NUMBER HIDDEN) or or ...   \n",
       "2131                      I'm always available to help.   \n",
       "2132   Nejdeh or Angela will be communicating with you.   \n",
       "2133  Guests have access to all amenities in the hou...   \n",
       "2134                                      Happy to help   \n",
       "\n",
       "                                            House Rules  Host Location  ...  \\\n",
       "2130  We love having guests and hope that you will t...              1  ...   \n",
       "2131      I expect my guests to respect  all neighbors.              1  ...   \n",
       "2132  - Quiet time is between 10pm and 7am.   - Than...              1  ...   \n",
       "2133                                                NaN              0  ...   \n",
       "2134  Please be mindful that we live above you and h...              1  ...   \n",
       "\n",
       "     Review Scores Location Review Scores Value  Cancellation Policy  \\\n",
       "2130                   10.0                 9.0             flexible   \n",
       "2131                    9.0                 9.0               strict   \n",
       "2132                   10.0                10.0             flexible   \n",
       "2133                    9.0                10.0             moderate   \n",
       "2134                    9.0                 9.0               strict   \n",
       "\n",
       "     Calculated host listings count Reviews per Month duration_rev  \\\n",
       "2130                              2              0.87     0.916667   \n",
       "2131                              1              0.59     1.166667   \n",
       "2132                              1              3.51     0.500000   \n",
       "2133                              1              0.77     0.333333   \n",
       "2134                              1              2.64     0.916667   \n",
       "\n",
       "      Time since last review  Number of Amenities  Host Duration  crime  \n",
       "2130                1.750000                   19       2.833333      6  \n",
       "2131                1.666667                    7       4.083333      6  \n",
       "2132                1.666667                   21       2.333333      6  \n",
       "2133                1.833333                   20       2.250000      6  \n",
       "2134                1.666667                   17       5.583333      6  \n",
       "\n",
       "[5 rows x 43 columns]"
      ]
     },
     "execution_count": 28,
     "metadata": {},
     "output_type": "execute_result"
    }
   ],
   "source": [
    "df[df['crime'] == 6].head()"
   ]
  },
  {
   "cell_type": "code",
   "execution_count": 29,
   "metadata": {},
   "outputs": [],
   "source": [
    "#df = df.drop(labels = 'Neighbourhood Cleansed', axis =1 )"
   ]
  },
  {
   "cell_type": "code",
   "execution_count": 30,
   "metadata": {},
   "outputs": [
    {
     "data": {
      "text/plain": [
       "2289"
      ]
     },
     "execution_count": 30,
     "metadata": {},
     "output_type": "execute_result"
    }
   ],
   "source": [
    "len(df)"
   ]
  },
  {
   "cell_type": "code",
   "execution_count": 31,
   "metadata": {},
   "outputs": [
    {
     "data": {
      "text/plain": [
       "Summary                           106\n",
       "Space                             215\n",
       "Description                         0\n",
       "Neighborhood Overview             524\n",
       "Notes                             650\n",
       "Transit                           466\n",
       "Access                            476\n",
       "Interaction                       524\n",
       "House Rules                       312\n",
       "Host Location                       0\n",
       "Host About                        362\n",
       "Host Response Time                  0\n",
       "Host Verifications                  0\n",
       "Neighbourhood Cleansed              0\n",
       "Property Type                       0\n",
       "Room Type                           0\n",
       "Accommodates                        0\n",
       "Bathrooms                           0\n",
       "Bedrooms                            0\n",
       "Beds                                0\n",
       "Bed Type                            0\n",
       "Price                               0\n",
       "Guests Included                     0\n",
       "Minimum Nights                      0\n",
       "Maximum Nights                      0\n",
       "Calendar Updated                    0\n",
       "Availability 365                    0\n",
       "Number of Reviews                   0\n",
       "Review Scores Rating                0\n",
       "Review Scores Accuracy              0\n",
       "Review Scores Cleanliness           0\n",
       "Review Scores Checkin               0\n",
       "Review Scores Communication         0\n",
       "Review Scores Location              0\n",
       "Review Scores Value                 0\n",
       "Cancellation Policy                 0\n",
       "Calculated host listings count      0\n",
       "Reviews per Month                   0\n",
       "duration_rev                        0\n",
       "Time since last review              0\n",
       "Number of Amenities                 0\n",
       "Host Duration                       0\n",
       "crime                               0\n",
       "dtype: int64"
      ]
     },
     "execution_count": 31,
     "metadata": {},
     "output_type": "execute_result"
    }
   ],
   "source": [
    "df.isnull().sum()"
   ]
  },
  {
   "cell_type": "code",
   "execution_count": 33,
   "metadata": {},
   "outputs": [],
   "source": [
    "df.to_csv('final-airbnb.csv', sep='\\t')"
   ]
  },
  {
   "cell_type": "code",
   "execution_count": null,
   "metadata": {},
   "outputs": [],
   "source": []
  }
 ],
 "metadata": {
  "kernelspec": {
   "display_name": "Python 3",
   "language": "python",
   "name": "python3"
  },
  "language_info": {
   "codemirror_mode": {
    "name": "ipython",
    "version": 3
   },
   "file_extension": ".py",
   "mimetype": "text/x-python",
   "name": "python",
   "nbconvert_exporter": "python",
   "pygments_lexer": "ipython3",
   "version": "3.7.6"
  }
 },
 "nbformat": 4,
 "nbformat_minor": 2
}
